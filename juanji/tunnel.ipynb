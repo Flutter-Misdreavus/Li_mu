{
 "cells": [
  {
   "cell_type": "markdown",
   "id": "2f4b86ef",
   "metadata": {},
   "source": [
    "多输入多输出通道"
   ]
  },
  {
   "cell_type": "code",
   "execution_count": 12,
   "id": "7e0683de",
   "metadata": {},
   "outputs": [],
   "source": [
    "import torch\n",
    "from torch import nn\n",
    "from d2l import torch as d2l"
   ]
  },
  {
   "cell_type": "code",
   "execution_count": 13,
   "id": "7c7d8948",
   "metadata": {},
   "outputs": [],
   "source": [
    "# 多个通道的输入\n",
    "\n",
    "def corr2d_multi_in(X, K):\n",
    "    result = 0\n",
    "    for x, k in zip(X, K):\n",
    "        result += d2l.corr2d(x, k)\n",
    "\n",
    "    return result"
   ]
  },
  {
   "cell_type": "code",
   "execution_count": 14,
   "id": "a0dcb4ba",
   "metadata": {},
   "outputs": [
    {
     "name": "stdout",
     "output_type": "stream",
     "text": [
      "tensor([[ 56.,  72.],\n",
      "        [104., 120.]])\n"
     ]
    }
   ],
   "source": [
    "X = torch.tensor([[[0.0, 1.0, 2.0], [3.0, 4.0, 5.0], [6.0, 7.0, 8.0]],\n",
    "               [[1.0, 2.0, 3.0], [4.0, 5.0, 6.0], [7.0, 8.0, 9.0]]])\n",
    "K = torch.tensor([[[0.0, 1.0], [2.0, 3.0]], [[1.0, 2.0], [3.0, 4.0]]])\n",
    "\n",
    "print(corr2d_multi_in(X, K))"
   ]
  },
  {
   "cell_type": "code",
   "execution_count": 15,
   "id": "07aad051",
   "metadata": {},
   "outputs": [
    {
     "name": "stdout",
     "output_type": "stream",
     "text": [
      "tensor([[[ 56.,  72.],\n",
      "         [104., 120.]],\n",
      "\n",
      "        [[ 76., 100.],\n",
      "         [148., 172.]],\n",
      "\n",
      "        [[ 96., 128.],\n",
      "         [192., 224.]]])\n"
     ]
    }
   ],
   "source": [
    "# 多个通道的输出\n",
    "\n",
    "def corr2d_multi_in_out(X, K):\n",
    "    # 注意这里的K和上面的K不一样\n",
    "    return torch.stack([corr2d_multi_in(X, k) for k in K], 0)\n",
    "\n",
    "K = torch.stack((K, K+1, K+2), 0)\n",
    "\n",
    "print(corr2d_multi_in_out(X, K))"
   ]
  },
  {
   "cell_type": "code",
   "execution_count": 17,
   "id": "5ece78d6",
   "metadata": {},
   "outputs": [
    {
     "name": "stdout",
     "output_type": "stream",
     "text": [
      "tensor([[[-1.4519, -2.6334,  1.1745],\n",
      "         [ 0.1339,  1.4623,  1.7615],\n",
      "         [ 0.5339,  0.1121, -1.1393]],\n",
      "\n",
      "        [[ 2.4513,  0.8055, -0.3168],\n",
      "         [ 0.6248,  0.7546,  1.5512],\n",
      "         [-1.4694, -0.7371,  1.3451]]])\n",
      "tensor([[[-1.4519, -2.6334,  1.1745],\n",
      "         [ 0.1339,  1.4623,  1.7615],\n",
      "         [ 0.5339,  0.1121, -1.1393]],\n",
      "\n",
      "        [[ 2.4513,  0.8055, -0.3168],\n",
      "         [ 0.6248,  0.7546,  1.5512],\n",
      "         [-1.4694, -0.7371,  1.3451]]])\n",
      "tensor([[[True, True, True],\n",
      "         [True, True, True],\n",
      "         [True, True, True]],\n",
      "\n",
      "        [[True, True, True],\n",
      "         [True, True, True],\n",
      "         [True, True, True]]])\n"
     ]
    }
   ],
   "source": [
    "# 1×1卷积相当于全连接层\n",
    "\n",
    "def corr2d_multi_in_out_1x1(X, K):\n",
    "    c_i, h, w = X.shape\n",
    "    c_o = K.shape[0]\n",
    "    X = X.reshape(c_i, h*w)\n",
    "    K = K.reshape(c_o, c_i)\n",
    "    Y = torch.matmul(K, X)\n",
    "    return Y.reshape(c_o, h, w)\n",
    "\n",
    "X = torch.normal(0, 1, size= (3, 3, 3))\n",
    "K = torch.normal(0, 1, size= (2, 3, 1, 1))\n",
    "\n",
    "Y1 = corr2d_multi_in_out_1x1(X, K)\n",
    "Y2 = corr2d_multi_in_out(X, K)\n",
    "\n",
    "print(Y1)\n",
    "print(Y2)\n",
    "print(Y1 == Y2)"
   ]
  }
 ],
 "metadata": {
  "kernelspec": {
   "display_name": "limu_deep",
   "language": "python",
   "name": "python3"
  },
  "language_info": {
   "codemirror_mode": {
    "name": "ipython",
    "version": 3
   },
   "file_extension": ".py",
   "mimetype": "text/x-python",
   "name": "python",
   "nbconvert_exporter": "python",
   "pygments_lexer": "ipython3",
   "version": "3.10.18"
  }
 },
 "nbformat": 4,
 "nbformat_minor": 5
}
