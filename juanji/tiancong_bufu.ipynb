{
 "cells": [
  {
   "cell_type": "markdown",
   "id": "998b8bf4",
   "metadata": {},
   "source": [
    "1. 填充：在周围加0\n",
    "2. 步幅：框移动的距离"
   ]
  },
  {
   "cell_type": "code",
   "execution_count": 2,
   "id": "b840b4bd",
   "metadata": {},
   "outputs": [],
   "source": [
    "import torch\n",
    "from torch import nn\n",
    "from d2l import torch as d2l"
   ]
  },
  {
   "cell_type": "code",
   "execution_count": 7,
   "id": "44760f69",
   "metadata": {},
   "outputs": [
    {
     "name": "stdout",
     "output_type": "stream",
     "text": [
      "torch.Size([8, 8])\n"
     ]
    }
   ],
   "source": [
    "def comp_conv2d(conv2d, X):\n",
    "    X = X.reshape((1, 1) + X.shape) # 所有侧边填充1个像素\n",
    "    Y = conv2d(X)\n",
    "    return Y.reshape(Y.shape[2:])# 把前面两个维度拿掉。因为Y前面两个维度是1，所以可以直接拿掉\n",
    "\n",
    "conv2d = nn.Conv2d(1, 1, kernel_size= 3, padding= 1) # padding:填充\n",
    "X = torch.rand(size= (8, 8))\n",
    "print(comp_conv2d(conv2d, X).shape)"
   ]
  },
  {
   "cell_type": "code",
   "execution_count": 9,
   "id": "39868173",
   "metadata": {},
   "outputs": [
    {
     "name": "stdout",
     "output_type": "stream",
     "text": [
      "torch.Size([8, 8])\n"
     ]
    }
   ],
   "source": [
    "# 填充不同的高度和宽度\n",
    "\n",
    "conv2d = nn.Conv2d(1, 1, kernel_size= (5, 3), padding= (2, 1))\n",
    "print(comp_conv2d(conv2d, X).shape)"
   ]
  },
  {
   "cell_type": "code",
   "execution_count": 10,
   "id": "a9ca4de4",
   "metadata": {},
   "outputs": [
    {
     "name": "stdout",
     "output_type": "stream",
     "text": [
      "torch.Size([2, 2])\n"
     ]
    }
   ],
   "source": [
    "conv2d = nn.Conv2d(1, 1, kernel_size= (3, 5), padding= (0, 1), stride= (3, 4)) # stride:步幅\n",
    "print(comp_conv2d(conv2d, X).shape)"
   ]
  }
 ],
 "metadata": {
  "kernelspec": {
   "display_name": "limu_deep",
   "language": "python",
   "name": "python3"
  },
  "language_info": {
   "codemirror_mode": {
    "name": "ipython",
    "version": 3
   },
   "file_extension": ".py",
   "mimetype": "text/x-python",
   "name": "python",
   "nbconvert_exporter": "python",
   "pygments_lexer": "ipython3",
   "version": "3.10.18"
  }
 },
 "nbformat": 4,
 "nbformat_minor": 5
}
